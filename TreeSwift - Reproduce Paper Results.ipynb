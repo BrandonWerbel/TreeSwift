{
 "cells": [
  {
   "cell_type": "markdown",
   "metadata": {
    "id": "OCuIqUwLXRFE"
   },
   "source": [
    "# Reproducing Research Paper Results: TreeSwift\n",
    "\n",
    "> Moshiri N (2020). \"TreeSwift: a massively scalable Python package for trees.\" *SoftwareX*. 11:100436. [doi:10.1016/j.softx.2020.100436](https://doi.org/10.1016/j.softx.2020.100436)"
   ]
  },
  {
   "cell_type": "markdown",
   "metadata": {
    "id": "Smxc4VZeX3Mg"
   },
   "source": [
    "# Introduction\n",
    "\n",
    "In the world of biology, [phylogenetic trees](https://en.wikipedia.org/wiki/Phylogenetic_tree) can be used to study the evolution of organisms, and they are applicable to a wide range of disciplines, such as [epidemiology](https://en.wikipedia.org/wiki/Epidemiology) and [metagenomics](https://en.wikipedia.org/wiki/Metagenomics). During the COVID-19 pandemic, phylogenetic tools like [Nextstrain](https://nextstrain.org/ncov/gisaid) [(Hadfield *et al.*, 2018)](https://doi.org/10.1093/bioinformatics/bty407) were critical for tracking the spread and evolution of SARS-CoV-2.\n",
    "\n",
    "When researchers build data analysis tools such as those created to study phylogenetic trees, programmers typically don't write the tools completely from scratch: instead, they typically build their tools upon on existing [packages](https://docs.python.org/3/tutorial/modules.html#packages), which are collections of code that perform common fundamental tasks in a given discipline. As a result, the performance of a data analysis tool (e.g. runtime, peak memory usage, etc.) doesn't just depend on the *tool developer's* code: it *also* depends on the code of the *package(s)* the developer *uses* in the tool.\n",
    "\n",
    "As the cost of DNA sequencing continues to fall rapidly, viral and bacterial genome sequences are collected, resulting in extremely large phylogenetic trees. For example, the [global phylogenetic tree of SARS-CoV-2 genomes](https://taxonium.org/?backend=https://api.cov2tree.org) contains roughly 7.5 million leaves. Unfortunately, trees of this size are typically infeasible to analyze using existing tree packages in languages like Python.\n",
    "\n",
    "[Moshiri (2020)](https://doi.org/10.1016/j.softx.2020.100436) introduces [TreeSwift](https://github.com/niemasd/TreeSwift), a user-friendly and massively scalable Python package for traversing and manipulating trees that is ideal for algorithms performed on ultra-large trees, and compares its performance against that of existing tools: [Biopython](https://biopython.org) (specifically the [Bio.Phylo](https://biopython.org/wiki/Phylo) module), [DendroPy](https://jeetsukumaran.github.io/DendroPy), and the [ETE Toolkit](http://etetoolkit.org/). In this activity, we will reproduce the key results of this manuscript by performing our own benchmark of these tools."
   ]
  },
  {
   "cell_type": "markdown",
   "metadata": {
    "id": "NinCURsjZqq-"
   },
   "source": [
    "# Setting Up the Environment\n",
    "\n",
    "Before we can run any analyses, we need to first install the packages we are benchmarking. We want to try to match the exact versions that were benchmarked in the paper to make sure we're reproducing the benchmark as accurately as possible: different versions may have slightly different performance (e.g. due to optimizations), which could slightly change the benchmarking results.\n",
    "\n",
    "[Moshiri (2020)](https://doi.org/10.1016/j.softx.2020.100436) mentions that TreeSwift v1.1.3 was used (see [Code Metadata table](https://www.softxjournal.com/action/showFullTableHTML?isHtml=true&tableId=utbl1&pii=S2352-7110%2819%2930076-7)), but it does not specify version numbers for the other packages. However, it provides a link to the following GitHub repository that contains all scripts and data ([GitHub](https://github.com/) is a platform for developing and sharing code):\n",
    "\n",
    "> https://github.com/niemasd/TreeSwift-Paper\n",
    "\n",
    "This repository *also* does not specify version numbers for the other tools, but looking at the repository's [commit history](https://github.com/niemasd/TreeSwift-Paper/commits/master/) (essentially a history of modifications), we can see that the last [commit](https://docs.github.com/en/pull-requests/committing-changes-to-your-project/creating-and-editing-commits/about-commits) (essentially a modification) made before the paper's publication date (January 2020) was made on [July 30, 2019](https://github.com/niemasd/TreeSwift-Paper/commit/179f6b6a3c8de30dee305af8aff472c1636b1b7b). We can use this timestamp to estimate the version numbers for the packages that were used by assuming the most recent version of each package released before this date. The versions estimated for each of the tree packages are organized in the table below.\n",
    "\n",
    "| Tool        | Version                                           |\n",
    "| :---------: | :-----------------------------------------------: |\n",
    "| TreeSwift   | [1.1.3](https://pypi.org/project/treeswift/1.1.3) |\n",
    "| Biopython   | [1.74](https://pypi.org/project/biopython/1.74)   |\n",
    "| DendroPy    | [4.4.0](https://pypi.org/project/DendroPy/4.4.0)  |\n",
    "| ETE Toolkit | [3.1.1](https://pypi.org/project/ete3/3.1.1)      |\n",
    "\n",
    "As you might have noticed, the version numbers in the table above are hyperlinks to specific pages on [PyPI](https://pypi.org/), which is the main repository for Python packages. We can use [`pip`](https://packaging.python.org/en/latest/key_projects/#pip), which is the most popular tool for installing Python packages from PyPI, to install all of the packages listed above by running the following cell, which should take around 1 minute to finish running."
   ]
  },
  {
   "cell_type": "code",
   "execution_count": null,
   "metadata": {
    "colab": {
     "base_uri": "https://localhost:8080/"
    },
    "executionInfo": {
     "elapsed": 55577,
     "status": "ok",
     "timestamp": 1722875361475,
     "user": {
      "displayName": "Niema Moshiri",
      "userId": "13872219228958483167"
     },
     "user_tz": 420
    },
    "id": "RHvyWeOmZtk2",
    "outputId": "b8d391df-922c-4a62-bda2-2e99a8b7d9f2"
   },
   "outputs": [],
   "source": [
    "# install tree packages using pip\n",
    "!pip install -q treeswift==1.1.3\n",
    "!pip install -q biopython==1.74\n",
    "!pip install -q dendropy==4.4.0\n",
    "!pip install -q ete3==3.1.1"
   ]
  },
  {
   "cell_type": "markdown",
   "metadata": {
    "id": "dmBlA3NUeJ4o"
   },
   "source": [
    "# Downloading the Data and Code\n",
    "\n",
    "[Moshiri (2020)](https://doi.org/10.1016/j.softx.2020.100436) performs a benchmark experiment using data and code that were provided in the aforementioned GitHub repository:\n",
    "\n",
    "> https://github.com/niemasd/TreeSwift-Paper\n",
    "\n",
    "We can [clone](https://docs.github.com/en/repositories/creating-and-managing-repositories/cloning-a-repository) this repository to download all of its contents (namely the paper's data and analysis scripts) in order to perform the benchmark experiment by running the following cell, which should only take a few seconds to run."
   ]
  },
  {
   "cell_type": "code",
   "execution_count": 2,
   "metadata": {
    "colab": {
     "base_uri": "https://localhost:8080/"
    },
    "executionInfo": {
     "elapsed": 2776,
     "status": "ok",
     "timestamp": 1728057310596,
     "user": {
      "displayName": "Kelly Shaw",
      "userId": "06745432674601378456"
     },
     "user_tz": 240
    },
    "id": "VOZQPMBzgr1w",
    "outputId": "1e169e6f-d578-4598-9f97-5b71e9628a55"
   },
   "outputs": [
    {
     "name": "stdout",
     "output_type": "stream",
     "text": [
      "Cloning into 'TreeSwift-Paper'...\n",
      "remote: Enumerating objects: 220, done.\u001b[K\n",
      "remote: Counting objects: 100% (3/3), done.\u001b[K\n",
      "remote: Compressing objects: 100% (3/3), done.\u001b[K\n",
      "remote: Total 220 (delta 0), reused 0 (delta 0), pack-reused 217 (from 1)\u001b[K\n",
      "Receiving objects: 100% (220/220), 14.01 MiB | 32.09 MiB/s, done.\n",
      "Resolving deltas: 100% (87/87), done.\n"
     ]
    }
   ],
   "source": [
    "!git clone https://github.com/niemasd/TreeSwift-Paper.git"
   ]
  },
  {
   "cell_type": "markdown",
   "metadata": {
    "id": "Athn8KPhgyO5"
   },
   "source": [
    "After running the cell above, if you open the \"Files\" tab on Google Colab (the icon in the left navigation bar that looks like a folder), you will see that we now have a folder called `TreeSwift-Paper`, which contains the cloned contents of the aforementioned GitHub repository."
   ]
  },
  {
   "cell_type": "markdown",
   "metadata": {
    "id": "VnL1SpWKhchJ"
   },
   "source": [
    "# Installing Analysis Dependencies\n",
    "\n",
    "If you look through the Python scripts within the [`scripts`](https://github.com/niemasd/TreeSwift-Paper/tree/master/scripts) folder of the aforementioned GitHub repository, you'll notice that they [depend on](https://github.com/niemasd/TreeSwift-Paper/blob/ca754155014cd116ce48fdc570b5b47f9bac4cd0/scripts/figures.py#L16-L20) the following Python packages that are not part of the [Python Standard Library](https://docs.python.org/3/library/index.html) and must thus be installed: [NumPy](https://numpy.org/), [Matplotlib](https://matplotlib.org/), and [seaborn](https://seaborn.pydata.org/).\n",
    "\n",
    "These packages are simply used to visualize the results of the benchmark experiment (i.e., they are not integral to the benchmark experiment itself), so it isn't critical for us to use the exact same versions that were used in the original paper. If we *really* wanted to, we could perform the same exploration as we did with the tree packages to find the most recent version of these packages released before [July 30, 2019](https://github.com/niemasd/TreeSwift-Paper/commit/179f6b6a3c8de30dee305af8aff472c1636b1b7b), but for the sake of simplicity, we will use the most recent versions of each of these packages.\n",
    "\n",
    "We can install all of the packages needed for visualizing the results of our experiment by running the following cell, which should take around 30 seconds to finish running."
   ]
  },
  {
   "cell_type": "code",
   "execution_count": 6,
   "metadata": {
    "id": "4K1WPXTFi3vR"
   },
   "outputs": [],
   "source": [
    "# install packages needed for visualizing our results\n",
    "!pip install -q numpy\n",
    "!pip install -q matplotlib\n",
    "!pip install -q seaborn"
   ]
  },
  {
   "cell_type": "markdown",
   "metadata": {
    "id": "4_H5EPPIpTX9"
   },
   "source": [
    "# Exploring the Analysis Scripts and Data\n",
    "\n",
    "Taking a closer look at the analysis scripts in the [`scripts`](https://github.com/niemasd/TreeSwift-Paper/tree/master/scripts) folder of the aforementioned GitHub repository, we can see that there are two scripts:\n",
    "\n",
    "* [`time.py`](https://github.com/niemasd/TreeSwift-Paper/blob/master/scripts/time.py) — This script actually performs each individual task in the benchmark\n",
    "    * There are individual functions for performing the tasks described at the beginning of [Section 3: Benchmarking](https://www.softxjournal.com/article/S2352-7110(19)30076-7/fulltext#secd1e265) and [Figure 1](https://www.softxjournal.com/article/S2352-7110(19)30076-7/fulltext#gr1) of the paper\n",
    "    * **STOP and Think:** Read through the functions defined in `time.py`, and map them to each of the panels and curves in Figure 1 of the paper\n",
    "* [`figures.py`](https://github.com/niemasd/TreeSwift-Paper/blob/master/scripts/figures.py) — This script takes as input the overall benchmarking results, and it produces the plots shown in [Figure 1](https://www.softxjournal.com/article/S2352-7110(19)30076-7/fulltext#gr1) of the paper\n",
    "    * **STOP and Think:** Many of the lines of this script deal with the *aesthetics* of the plot. Why do you think some of these aesthetic choices (e.g. plotting in log-scale, choosing different linestyles for the curves, etc.) were chosen?\n",
    "\n",
    "The GitHub repository also provides the trees that were used to benchmark the tools, as well as the raw results of the benchmarking experiment, within the [`data`](https://github.com/niemasd/TreeSwift-Paper/tree/master/data) folder:\n",
    "\n",
    "* `tree_nX.tre.gz` — These are the ([gzip](https://en.wikipedia.org/wiki/Gzip)-compressed) binary trees that were used to perform the benchmark, where `X` denotes the number of leaves\n",
    "    * [`tree_n100.tre.gz`](https://github.com/niemasd/TreeSwift-Paper/blob/master/data/tree_n100.tre.gz) is a binary tree with 100 leaves\n",
    "    * [`tree_n1000.tre.gz`](https://github.com/niemasd/TreeSwift-Paper/blob/master/data/tree_n1000.tre.gz) is a binary tree with 1,000 leaves\n",
    "    * Etc.\n",
    "* [`data.pkl.gz`](https://github.com/niemasd/TreeSwift-Paper/blob/master/data/data.pkl.gz) — This is a ([gzip](https://en.wikipedia.org/wiki/Gzip)-compressed) [Pickle](https://docs.python.org/3/library/pickle.html) file containing the raw results of the benchmarking experiment\n",
    "    * As you might have noticed when reviewing the scripts in the GitHub repository, this is the input to the [`figures.py`](https://github.com/niemasd/TreeSwift-Paper/blob/master/scripts/figures.py) script\n",
    "\n",
    "After reviewing all of this, we can imagine the following steps for conducting our benchmark experiment:\n",
    "\n",
    "1. Use [`time.py`](https://github.com/niemasd/TreeSwift-Paper/blob/master/scripts/time.py) to benchmark each tool on each tree file\n",
    "2. Organize the results of [`time.py`](https://github.com/niemasd/TreeSwift-Paper/blob/master/scripts/time.py) into a [Pickle](https://docs.python.org/3/library/pickle.html) file structured in the same manner as [`data.pkl.gz`](https://github.com/niemasd/TreeSwift-Paper/blob/master/data/data.pkl.gz)\n",
    "3. Use [`figures.py`](https://github.com/niemasd/TreeSwift-Paper/blob/master/scripts/figures.py) on our own `data.pkl.gz` file to produce our own figures"
   ]
  },
  {
   "cell_type": "markdown",
   "metadata": {
    "id": "CWofvj8LuF_s"
   },
   "source": [
    "## Exploring `data.pkl.gz`\n",
    "\n",
    "As an initial \"Step 0,\" since we ultimately want to create our own `data.pkl.gz` file, let's explore the one that was included in the aforementioned GitHub repository and was used to produce the figures in the paper. Let's load the provided [`data.pkl.gz`](https://github.com/niemasd/TreeSwift-Paper/blob/master/data/data.pkl.gz) file and [pretty-print](https://en.wikipedia.org/wiki/Prettyprint) it so that we can better understand its structure. This cell should only take a couple of seconds to finish running."
   ]
  },
  {
   "cell_type": "code",
   "execution_count": 7,
   "metadata": {
    "colab": {
     "base_uri": "https://localhost:8080/"
    },
    "executionInfo": {
     "elapsed": 479,
     "status": "ok",
     "timestamp": 1722875375499,
     "user": {
      "displayName": "Niema Moshiri",
      "userId": "13872219228958483167"
     },
     "user_tz": 420
    },
    "id": "AeQr8KHGwHBM",
    "outputId": "059db4ba-ee73-4c07-9a9d-0434f4850ada"
   },
   "outputs": [
    {
     "name": "stdout",
     "output_type": "stream",
     "text": [
      "{'postorder': {100: {'biophylo': [0.0017402172088623, 0.00176334381103516, 0.00175738334655762, 0.00218605995178223, 0.00174164772033691,\n",
      "                                  0.00181150436401367, 0.0016939640045166, 0.00182294845581055, 0.00472354888916016, 0.00170350074768066],\n",
      "                     'treeswift': [0.000358343124389648, 0.000356912612915039, 0.000364065170288086, 0.000354290008544922, 0.000373363494873047,\n",
      "                                   0.000339269638061523, 0.00034332275390625, 0.000463008880615234, 0.000505924224853516, 0.000344276428222656],\n",
      "                     'ete3': [0.000722169876098633, 0.000735282897949219, 0.000721216201782227, 0.000737190246582031, 0.000802040100097656,\n",
      "                              0.000767946243286133, 0.000733137130737305, 0.0027778148651123, 0.000748872756958008, 0.000766515731811523],\n",
      "                     'dendropy': [0.000357627868652344, 0.000357389450073242, 0.000374317169189453, 0.000366687774658203, 0.0003662109375,\n",
      "                                  0.000484943389892578, 0.000372409820556641, 0.000658512115478516, 0.000456333160400391, 0.000381946563720703]},\n",
      "               1000: {'biophylo': [0.0182602405548096, 0.0457234382629395, 0.0175657272338867, 0.0190403461456299, 0.0390841960906982,\n",
      "                                   0.024446964263916, 0.0194213390350342, 0.025071382522583, 0.0199511051177979, 0.0176372528076172],\n",
      "                      'treeswift': [0.00357294082641602, 0.00370597839355469, 0.00384354591369629, 0.00362038612365723, 0.00348496437072754,\n",
      "                                    0.00362014770507812, 0.00365471839904785, 0.00357413291931152, 0.00335168838500977, 0.00354456901550293],\n",
      "                      'ete3': [0.0121273994445801, 0.0137495994567871, 0.0138835906982422, 0.00728750228881836, 0.00717520713806152,\n",
      "                               0.0135672092437744, 0.0139386653900146, 0.0152683258056641, 0.00835442543029785, 0.00720357894897461],\n",
      "                      'dendropy': [0.00359606742858887, 0.00350451469421387, 0.00360846519470215, 0.00346994400024414, 0.00359749794006348,\n",
      "                                   0.00358891487121582, 0.0147373676300049, 0.010155200958252, 0.00361967086791992, 0.0105419158935547]},\n",
      "               10000: {'biophylo': [0.280980587005615, 0.220482110977173, 0.223449945449829, 0.224193572998047, 0.257712364196777, 0.343415021896362,\n",
      "                                    0.218376874923706, 0.308786869049072, 0.269029378890991, 0.215471029281616],\n",
      "                       'treeswift': [0.0358791351318359, 0.0767712593078613, 0.0466835498809814, 0.0369777679443359, 0.0355379581451416,\n",
      "                                     0.0360715389251709, 0.0363154411315918, 0.0358655452728271, 0.0529208183288574, 0.0395498275756836],\n",
      "                       'ete3': [0.0714583396911621, 0.0731899738311768, 0.11998176574707, 0.0633981227874756, 0.0635154247283936, 0.06231689453125,\n",
      "                                0.0628068447113037, 0.0754861831665039, 0.0751104354858398, 0.062401294708252],\n",
      "                       'dendropy': [0.0336127281188965, 0.0337235927581787, 0.0393216609954834, 0.0330698490142822, 0.0331771373748779,\n",
      "                                    0.0383398532867432, 0.0323736667633057, 0.0354630947113037, 0.034712553024292, 0.0395205020904541]},\n",
      "               100000: {'biophylo': [1.68652558326721, 1.67148876190186, 1.69625687599182, 1.69970488548279, 1.79709887504578, 1.63262176513672,\n",
      "                                     1.73579239845276, 1.74501252174377, 1.6663830280304, 1.72293472290039],\n",
      "                        'treeswift': [0.315390110015869, 0.304510831832886, 0.459439277648926, 0.320802450180054, 0.312098741531372,\n",
      "                                      0.308959484100342, 0.315979719161987, 0.315091848373413, 0.31544041633606, 0.315182447433472],\n",
      "                        'ete3': [0.617561340332031, 0.605023384094238, 0.709748983383179, 0.63713264465332, 0.636299848556519, 0.631133317947388,\n",
      "                                 0.623078107833862, 0.610470294952393, 0.630942821502686, 0.670463800430298],\n",
      "                        'dendropy': [0.332818746566772, 0.32262396812439, 0.405638456344604, 0.380652666091919, 0.32520604133606, 0.326015472412109,\n",
      "                                     0.327789306640625, 0.328097105026245, 0.329619169235229, 0.326623678207397]},\n",
      "               1000000: {'biophylo': [16.9582443237305, 16.7689154148102, 17.1400747299194, 17.1459486484528, 16.7041113376617, 17.4901468753815,\n",
      "                                      17.0766892433167, 16.4172120094299, 17.6925764083862, 16.3565015792847],\n",
      "                         'treeswift': [3.24073719978333, 3.43176531791687, 3.13504219055176, 3.20978951454163, 3.34023380279541, 3.21296882629395,\n",
      "                                       3.18663167953491, 3.24663591384888, 3.20891880989075, 3.24051356315613],\n",
      "                         'ete3': [6.41105604171753, 6.20426869392395, 5.9875864982605, 5.9471161365509, 5.97298789024353, 6.12280464172363,\n",
      "                                  6.295001745224, 6.14371681213379, 6.23196268081665, 6.00633811950684],\n",
      "                         'dendropy': [3.44742751121521, 3.1998975276947, 3.46500897407532, 3.60771584510803, 3.4080171585083, 3.83491897583008,\n",
      "                                      4.05797290802002, 3.96167778968811, 3.12988805770874, 3.01877808570862]}},\n",
      " 'levelorder': {100: {'biophylo': [0.00319552421569824, 0.00147533416748047, 0.00238680839538574, 0.00155973434448242, 0.00145268440246582,\n",
      "                                   0.00225210189819336, 0.00151276588439941, 0.00163054466247559, 0.00156378746032715, 0.00153589248657227],\n",
      "                      'treeswift': [0.00027775764465332, 0.00030970573425293, 0.000423431396484375, 0.000349283218383789, 0.000321626663208008,\n",
      "                                    0.000298023223876953, 0.000407218933105469, 0.000287055969238281, 0.000283718109130859, 0.000384807586669922],\n",
      "                      'ete3': [0.000177145004272461, 0.000167369842529297, 0.000200271606445312, 0.000167131423950195, 0.000171661376953125,\n",
      "                               0.000169038772583008, 0.000165939331054688, 0.000168323516845703, 0.000166416168212891, 0.000203847885131836],\n",
      "                      'dendropy': [0.000420093536376953, 0.000663995742797852, 0.000339508056640625, 0.000427007675170898, 0.000372886657714844,\n",
      "                                   0.000359058380126953, 0.000393867492675781, 0.000395059585571289, 0.000380039215087891, 0.000322580337524414]},\n",
      "                1000: {'biophylo': [0.0528848171234131, 0.0287735462188721, 0.0148134231567383, 0.0150771141052246, 0.0146281719207764,\n",
      "                                    0.0151877403259277, 0.020047664642334, 0.0147390365600586, 0.0213534832000732, 0.0147085189819336],\n",
      "                       'treeswift': [0.00274157524108887, 0.00291991233825684, 0.00282144546508789, 0.00271916389465332, 0.00277590751647949,\n",
      "                                     0.00294065475463867, 0.00304412841796875, 0.00274157524108887, 0.00312590599060059, 0.0036163330078125],\n",
      "                       'ete3': [0.00193500518798828, 0.00190210342407227, 0.00205397605895996, 0.00191259384155273, 0.00195527076721191,\n",
      "                                0.00181937217712402, 0.00238656997680664, 0.00188040733337402, 0.0039215087890625, 0.00169515609741211],\n",
      "                       'dendropy': [0.00376462936401367, 0.00349903106689453, 0.00349235534667969, 0.00355100631713867, 0.00359368324279785,\n",
      "                                    0.00368976593017578, 0.00768256187438965, 0.00383448600769043, 0.003631591796875, 0.00389695167541504]},\n",
      "                10000: {'biophylo': [0.186362743377686, 0.212237119674683, 0.199657917022705, 0.241657257080078, 0.299954652786255, 0.249512910842896,\n",
      "                                     0.179160118103027, 0.176825046539307, 0.17511773109436, 0.183261632919312],\n",
      "                        'treeswift': [0.0361747741699219, 0.0293116569519043, 0.0293905735015869, 0.0300881862640381, 0.0633277893066406,\n",
      "                                      0.0400164127349854, 0.054358959197998, 0.057948112487793, 0.0314841270446777, 0.0296239852905273],\n",
      "                        'ete3': [0.0201888084411621, 0.020383358001709, 0.020256519317627, 0.0217881202697754, 0.019244909286499, 0.0172851085662842,\n",
      "                                 0.0177249908447266, 0.0176711082458496, 0.0181832313537598, 0.0204782485961914],\n",
      "                        'dendropy': [0.0864379405975342, 0.045302152633667, 0.0449728965759277, 0.0941715240478516, 0.04274582862854,\n",
      "                                     0.0461478233337402, 0.0756287574768066, 0.049375057220459, 0.0980501174926758, 0.0493674278259277]},\n",
      "                100000: {'biophylo': [1.32686161994934, 1.2401282787323, 1.25656270980835, 1.26012897491455, 1.2876935005188, 1.35634660720825,\n",
      "                                      1.35607051849365, 1.28511452674866, 1.19225239753723, 1.24364829063416],\n",
      "                         'treeswift': [0.331098794937134, 0.322939395904541, 0.320822954177856, 0.354978561401367, 0.279214143753052,\n",
      "                                       0.269285440444946, 0.380151748657227, 0.364683866500854, 0.289970874786377, 0.285831212997437],\n",
      "                         'ete3': [0.203171968460083, 0.226305246353149, 0.197386503219604, 0.202537298202515, 0.248172760009766, 0.214918613433838,\n",
      "                                  0.287639856338501, 0.204925060272217, 0.191694021224976, 0.208605527877808],\n",
      "                         'dendropy': [1.42438077926636, 1.32433605194092, 1.44480133056641, 1.47468018531799, 1.32724833488464, 1.4368999004364,\n",
      "                                      1.38217949867249, 1.42075419425964, 1.32947540283203, 1.32048416137695]},\n",
      "                1000000: {'biophylo': [12.6957309246063, 12.4197325706482, 12.3799252510071, 12.5131342411041, 12.9509871006012, 12.6011981964111,\n",
      "                                       12.7766768932343, 11.7649161815643, 12.0427401065826, 12.0234367847443],\n",
      "                          'treeswift': [3.14869165420532, 2.87361431121826, 2.85842967033386, 2.84949803352356, 2.76731395721436, 2.84191274642944,\n",
      "                                        2.78416228294373, 2.88660287857056, 3.3338520526886, 2.89026761054993],\n",
      "                          'ete3': [2.10352873802185, 2.25679302215576, 2.21166348457336, 2.34042096138, 1.92340731620789, 2.04662823677063,\n",
      "                                   2.06106448173523, 2.30704545974731, 2.00440406799316, 1.99885654449463],\n",
      "                          'dendropy': [144.730144500732, 146.682310819626, 153.463903188705, 143.63206076622, 140.560411691666, 159.870848417282,\n",
      "                                       166.528635501862, 164.181272506714, 138.885257720947, 163.797635793686]}},\n",
      " 'distance_matrix': {100: {'biophylo': [0.0083320140838623, 0.00489425659179688, 0.00711750984191895, 0.00473999977111816, 0.00512862205505371,\n",
      "                                        0.00471305847167969, 0.0105299949645996, 0.00444126129150391, 0.013939380645752, 0.00583338737487793],\n",
      "                           'treeswift': [0.00531578063964844, 0.00576210021972656, 0.00807285308837891, 0.00564479827880859, 0.00581598281860352,\n",
      "                                         0.0052177906036377, 0.0152771472930908, 0.00524592399597168, 0.00556349754333496, 0.00523233413696289],\n",
      "                           'ete3': [0.0342803001403809, 0.0646095275878906, 0.0570533275604248, 0.111847162246704, 0.0353140830993652,\n",
      "                                    0.0798966884613037, 0.0392858982086182, 0.0418782234191895, 0.0352280139923096, 0.0678367614746094],\n",
      "                           'dendropy': [0.10785436630249, 0.106572866439819, 0.155242681503296, 0.105323314666748, 0.19758415222168,\n",
      "                                        0.121925354003906, 0.188281536102295, 0.161549806594849, 0.105458974838257, 0.178958892822266]},\n",
      "                     1000: {'biophylo': [0.421332359313965, 0.6951904296875, 0.484168291091919, 0.557687997817993, 0.187185525894165,\n",
      "                                         0.439418792724609, 0.432671070098877, 0.406633853912354, 0.182055473327637, 0.455877542495728],\n",
      "                            'treeswift': [0.513302087783813, 0.50969934463501, 0.489884614944458, 0.598729848861694, 0.698580741882324,\n",
      "                                          0.635745525360107, 0.523164987564087, 0.660235404968262, 0.495811700820923, 0.488090515136719],\n",
      "                            'ete3': [7.10394024848938, 6.51323580741882, 6.64018130302429, 6.35336875915527, 6.19037342071533, 6.99584817886353,\n",
      "                                     5.89135503768921, 5.68624305725098, 5.1898033618927, 5.19149041175842],\n",
      "                            'dendropy': [12.3376159667969, 11.1570498943329, 11.0873692035675, 10.5967741012573, 11.1233644485474, 10.889182806015,\n",
      "                                         10.0223152637482, 10.7951600551605, 10.6770749092102, 11.4344527721405]}},\n",
      " 'ladderize': {100: {'biophylo': [0.0135593414306641, 0.0135064125061035, 0.0134339332580566, 0.0297496318817139, 0.0302402973175049,\n",
      "                                  0.0297970771789551, 0.029860258102417, 0.0305566787719727, 0.029716968536377, 0.0301868915557861],\n",
      "                     'treeswift': [0.00304603576660156, 0.00310635566711426, 0.00303912162780762, 0.00138258934020996, 0.0031275749206543,\n",
      "                                   0.00319528579711914, 0.00296711921691895, 0.00311899185180664, 0.00138282775878906, 0.00140547752380371],\n",
      "                     'ete3': [0.000678062438964844, 0.000674962997436523, 0.000677585601806641, 0.000678777694702148, 0.000673532485961914,\n",
      "                              0.000673770904541016, 0.000667095184326172, 0.000667333602905273, 0.000674724578857422, 0.000645875930786133],\n",
      "                     'dendropy': [0.00178265571594238, 0.00117230415344238, 0.0011897087097168, 0.00263810157775879, 0.00120067596435547,\n",
      "                                  0.00120902061462402, 0.00116324424743652, 0.0011754035949707, 0.00115752220153809, 0.00145339965820312]},\n",
      "               1000: {'biophylo': [0.243483066558838, 0.234152555465698, 0.234745502471924, 0.240101337432861, 0.196803331375122, 0.253296375274658,\n",
      "                                   0.252643823623657, 0.242703437805176, 0.231735706329346, 0.23755145072937],\n",
      "                      'treeswift': [0.0137970447540283, 0.0141360759735107, 0.0138776302337646, 0.0135395526885986, 0.0138809680938721,\n",
      "                                    0.0138411521911621, 0.0136585235595703, 0.0276446342468262, 0.0176773071289062, 0.014681339263916],\n",
      "                      'ete3': [0.0070490837097168, 0.00724673271179199, 0.00641155242919922, 0.0137019157409668, 0.0137701034545898,\n",
      "                               0.00776290893554688, 0.00626301765441895, 0.00621342658996582, 0.00637507438659668, 0.00638103485107422],\n",
      "                      'dendropy': [0.0114424228668213, 0.0145022869110107, 0.0115053653717041, 0.0113377571105957, 0.0114302635192871,\n",
      "                                   0.0116724967956543, 0.0117177963256836, 0.0144631862640381, 0.0114188194274902, 0.0122795104980469]},\n",
      "               10000: {'biophylo': [2.60677528381348, 2.62153029441833, 2.45818662643433, 2.37120676040649, 2.61397743225098, 2.67200613021851,\n",
      "                                    2.59152460098267, 2.41009283065796, 2.28739976882935, 2.67131996154785],\n",
      "                       'treeswift': [0.137880802154541, 0.140221357345581, 0.137993335723877, 0.134833335876465, 0.136449337005615, 0.136330604553223,\n",
      "                                     0.139381647109985, 0.137378215789795, 0.143240213394165, 0.137730598449707],\n",
      "                       'ete3': [0.0627005100250244, 0.064892053604126, 0.0648558139801025, 0.0636911392211914, 0.063788890838623, 0.0641119480133057,\n",
      "                                0.0648741722106934, 0.0651924610137939, 0.0641882419586182, 0.0654871463775635],\n",
      "                       'dendropy': [0.0991396903991699, 0.116977453231812, 0.119301557540894, 0.118319511413574, 0.119235277175903, 0.118445634841919,\n",
      "                                    0.0987143516540527, 0.124687194824219, 0.101544618606567, 0.0985682010650635]},\n",
      "               100000: {'biophylo': [27.1235013008118, 28.3953900337219, 28.0234844684601, 25.6284115314484, 25.9678649902344, 27.3805568218231,\n",
      "                                     26.5868217945099, 25.0204968452454, 25.7160019874573, 24.310252904892],\n",
      "                        'treeswift': [1.19134545326233, 1.17063522338867, 1.25452375411987, 1.19280529022217, 1.44549775123596, 1.21627140045166,\n",
      "                                      1.35829210281372, 1.4611337184906, 1.18781495094299, 1.20957946777344],\n",
      "                        'ete3': [0.558743238449097, 0.531795740127563, 0.536995410919189, 0.531955718994141, 0.531965732574463, 0.528324604034424,\n",
      "                                 0.549686431884766, 0.53755259513855, 0.53498387336731, 0.537871122360229],\n",
      "                        'dendropy': [1.31792616844177, 1.00181746482849, 0.962800264358521, 1.06554794311523, 0.975864410400391, 1.06056380271912,\n",
      "                                     1.06552195549011, 1.12439560890198, 1.26354885101318, 1.07796287536621]},\n",
      "               1000000: {'treeswift': [11.734406709671, 13.8386693000793, 13.5051245689392, 12.2644391059875, 12.9216420650482, 14.5142734050751,\n",
      "                                       12.7707269191742, 13.1242835521698, 13.1413373947144, 11.9357979297638],\n",
      "                         'ete3': [5.5320999622345, 5.00218534469604, 5.08659529685974, 4.96479272842407, 5.06212186813354, 4.98150300979614,\n",
      "                                  5.59038472175598, 4.95705437660217, 5.53154611587524, 4.99393677711487]}},\n",
      " 'load_tree': {100: {'biophylo': [0.00909900665283203, 0.0042870044708252, 0.00429964065551758, 0.00527238845825195, 0.00404119491577148,\n",
      "                                  0.00412082672119141, 0.00401163101196289, 0.00414776802062988, 0.00406122207641602, 0.00405073165893555],\n",
      "                     'treeswift': [0.00301480293273926, 0.00363326072692871, 0.00302720069885254, 0.0028994083404541, 0.00316572189331055,\n",
      "                                   0.00298690795898438, 0.0040435791015625, 0.00436663627624512, 0.00300884246826172, 0.00292778015136719],\n",
      "                     'ete3': [0.00797462463378906, 0.00789904594421387, 0.00792503356933594, 0.00776839256286621, 0.00744056701660156,\n",
      "                              0.00739955902099609, 0.0132927894592285, 0.00756359100341797, 0.00756335258483887, 0.00732541084289551],\n",
      "                     'dendropy': [0.0185222625732422, 0.0178108215332031, 0.0177366733551025, 0.017549991607666, 0.0255496501922607,\n",
      "                                  0.0179195404052734, 0.0182418823242188, 0.0355510711669922, 0.01869797706604, 0.0185413360595703]},\n",
      "               1000: {'biophylo': [0.0929405689239502, 0.0431420803070068, 0.0457870960235596, 0.0412886142730713, 0.0657296180725098,\n",
      "                                   0.0444493293762207, 0.0542671680450439, 0.076474666595459, 0.092637300491333, 0.0520267486572266],\n",
      "                      'treeswift': [0.0426506996154785, 0.0303339958190918, 0.0297071933746338, 0.0309956073760986, 0.0304059982299805,\n",
      "                                    0.0297472476959229, 0.0300135612487793, 0.0341806411743164, 0.0814764499664307, 0.0313186645507812],\n",
      "                      'ete3': [0.0577900409698486, 0.0660207271575928, 0.0585265159606934, 0.0564591884613037, 0.07684326171875, 0.0563242435455322,\n",
      "                               0.0571763515472412, 0.0566520690917969, 0.0564219951629639, 0.0559382438659668],\n",
      "                      'dendropy': [0.214699268341064, 0.207405805587769, 0.21942138671875, 0.214346885681152, 0.171113252639771, 0.226846218109131,\n",
      "                                   0.198461532592773, 0.198378801345825, 0.238037586212158, 0.190114736557007]},\n",
      "               10000: {'biophylo': [0.417243242263794, 0.484569072723389, 0.550116777420044, 0.407102346420288, 0.404184341430664, 0.531637668609619,\n",
      "                                    0.530706405639648, 0.394559860229492, 0.402654886245728, 0.488321542739868],\n",
      "                       'treeswift': [0.357874393463135, 0.367125749588013, 0.405829668045044, 0.370415210723877, 0.357297658920288, 0.320905208587646,\n",
      "                                     0.393203496932983, 0.383639574050903, 0.418334722518921, 0.354540586471558],\n",
      "                       'ete3': [0.692696332931519, 0.65531849861145, 0.644572973251343, 0.551445484161377, 0.660107851028442, 0.547785520553589,\n",
      "                                0.534030675888062, 0.629297733306885, 0.625378131866455, 0.476586103439331],\n",
      "                       'dendropy': [1.81345343589783, 2.07169103622437, 1.8387393951416, 1.91874051094055, 2.02652764320374, 1.77315211296082,\n",
      "                                    1.83740615844727, 1.88750100135803, 1.76751470565796, 1.85794639587402]},\n",
      "               100000: {'biophylo': [4.94210648536682, 4.78273248672485, 4.53080701828003, 4.2946789264679, 4.251051902771, 4.69222593307495,\n",
      "                                     4.41626977920532, 4.23410105705261, 4.53079605102539, 4.66839218139648],\n",
      "                        'treeswift': [3.36894106864929, 3.6050124168396, 3.42289757728577, 3.35460090637207, 3.54805421829224, 3.41529965400696,\n",
      "                                      3.82189702987671, 3.42377829551697, 3.25859141349792, 3.27079510688782],\n",
      "                        'ete3': [6.18760275840759, 5.92992067337036, 6.21825623512268, 5.85289144515991, 5.97341203689575, 5.64468955993652,\n",
      "                                 5.77212977409363, 6.06509399414062, 5.5560188293457, 5.70864152908325],\n",
      "                        'dendropy': [18.3273048400879, 18.7428464889526, 18.341817855835, 18.7403452396393, 19.8875443935394, 19.1872322559357,\n",
      "                                     18.8532319068909, 19.8370001316071, 18.7556536197662, 19.254723072052]},\n",
      "               1000000: {'biophylo': [51.1017162799835, 51.3548958301544, 53.9341235160828, 50.0896461009979, 51.7835645675659, 52.9796345233917,\n",
      "                                      52.6812689304352, 54.7895972728729, 53.7323355674744, 51.9474802017212],\n",
      "                         'treeswift': [32.8911092281342, 36.9414710998535, 34.2528076171875, 35.1107933521271, 35.0294361114502, 34.8213810920715,\n",
      "                                       36.0023987293243, 35.6050095558167, 35.1926939487457, 34.6359388828278],\n",
      "                         'ete3': [57.7918598651886, 62.2047715187073, 60.531989812851, 61.3932604789734, 61.2927010059357, 59.8809194564819,\n",
      "                                  58.8085613250732, 59.5602335929871, 60.9148633480072, 61.3592164516449],\n",
      "                         'dendropy': [213.124205350876, 212.696168899536, 202.258287191391, 197.472813844681, 198.069834470749, 202.593545198441,\n",
      "                                      213.289007663727, 202.185320615768, 196.9506752491, 223.790018796921]}},\n",
      " 'mrca': {100: {'biophylo': [0.0119795799255371, 0.0126957893371582, 0.0136945247650146, 0.0157201290130615, 0.0126378536224365, 0.0122230052947998,\n",
      "                             0.0122089385986328, 0.0119941234588623, 0.0122537612915039, 0.0162448883056641],\n",
      "                'treeswift': [0.00173711776733398, 0.00190949440002441, 0.00279402732849121, 0.00220298767089844, 0.00178885459899902,\n",
      "                              0.0017085075378418, 0.0055694580078125, 0.00177741050720215, 0.0017399787902832, 0.00279712677001953],\n",
      "                'ete3': [0.0021975040435791, 0.00235724449157715, 0.00215840339660645, 0.00224757194519043, 0.00214886665344238, 0.00246262550354004,\n",
      "                         0.00214219093322754, 0.00216770172119141, 0.00397205352783203, 0.00275015830993652],\n",
      "                'dendropy': [0.00390625, 0.00387668609619141, 0.00444412231445312, 0.0038762092590332, 0.00385713577270508, 0.00388574600219727,\n",
      "                             0.00386452674865723, 0.00392508506774902, 0.00389599800109863, 0.00442290306091309]},\n",
      "          1000: {'biophylo': [1.14833068847656, 1.31063747406006, 1.16294121742249, 1.07775926589966, 1.10157179832458, 1.08473920822144,\n",
      "                              1.21040415763855, 1.1097207069397, 1.15407824516296, 1.1122944355011],\n",
      "                 'treeswift': [0.0227806568145752, 0.0230381488800049, 0.0287027359008789, 0.0282444953918457, 0.0566418170928955, 0.0207300186157227,\n",
      "                               0.0274505615234375, 0.0209519863128662, 0.024451732635498, 0.0402717590332031],\n",
      "                 'ete3': [0.0494861602783203, 0.0393104553222656, 0.0280215740203857, 0.0275561809539795, 0.0274391174316406, 0.0568306446075439,\n",
      "                          0.0281295776367188, 0.0275018215179443, 0.028963565826416, 0.0331602096557617],\n",
      "                 'dendropy': [0.0509889125823975, 0.0391659736633301, 0.058335542678833, 0.0684385299682617, 0.0459835529327393, 0.0427048206329346,\n",
      "                              0.0410890579223633, 0.0389573574066162, 0.039222240447998, 0.0393786430358887]},\n",
      "          10000: {'biophylo': [94.0371215343475, 83.7333731651306, 81.046318769455, 78.428117275238, 81.7062587738037, 77.1832706928253,\n",
      "                               78.4803295135498, 78.6087870597839, 80.7608420848846, 76.4532272815704],\n",
      "                  'treeswift': [0.207322359085083, 0.206531047821045, 0.209023475646973, 0.202070951461792, 0.205996751785278, 0.204930067062378,\n",
      "                                0.201505184173584, 0.202511548995972, 0.20626974105835, 0.208675861358643],\n",
      "                  'ete3': [0.328986883163452, 0.348795890808105, 0.323638677597046, 0.34958028793335, 0.344139575958252, 0.34316349029541,\n",
      "                           0.314529657363892, 0.33471155166626, 0.336970329284668, 0.351255893707275],\n",
      "                  'dendropy': [0.406843662261963, 0.398561000823975, 0.383679866790771, 0.398119449615479, 0.402338266372681, 0.421758651733398,\n",
      "                               0.468382596969604, 0.404439210891724, 0.412683248519897, 0.391203165054321]},\n",
      "          100000: {'treeswift': [2.24735450744629, 2.33288598060608, 2.18012714385986, 2.73196506500244, 2.70348620414734, 2.22911143302917,\n",
      "                                 2.95046281814575, 2.29405474662781, 2.1738805770874, 2.19277787208557]}},\n",
      " 'preorder': {100: {'biophylo': [0.00379037857055664, 0.00166702270507812, 0.00171947479248047, 0.00169730186462402, 0.0017240047454834,\n",
      "                                 0.0023040771484375, 0.00169873237609863, 0.00180268287658691, 0.00184893608093262, 0.00175237655639648],\n",
      "                    'treeswift': [0.000283956527709961, 0.000276327133178711, 0.000279903411865234, 0.000276803970336914, 0.000307321548461914,\n",
      "                                  0.000281095504760742, 0.000284671783447266, 0.00031590461730957, 0.00028538703918457, 0.0002899169921875],\n",
      "                    'ete3': [0.000307321548461914, 0.000223398208618164, 0.000249385833740234, 0.000219345092773438, 0.000215291976928711,\n",
      "                             0.000217676162719727, 0.000226259231567383, 0.000219821929931641, 0.000217437744140625, 0.000216007232666016],\n",
      "                    'dendropy': [0.000469446182250977, 0.000532150268554688, 0.000362873077392578, 0.000374078750610352, 0.000366926193237305,\n",
      "                                 0.00117659568786621, 0.000381946563720703, 0.00161170959472656, 0.000404119491577148, 0.000363588333129883]},\n",
      "              1000: {'biophylo': [0.0372459888458252, 0.0534651279449463, 0.0234725475311279, 0.0175430774688721, 0.0515224933624268,\n",
      "                                  0.0174710750579834, 0.0188653469085693, 0.0175962448120117, 0.0213608741760254, 0.0180892944335938],\n",
      "                     'treeswift': [0.00271940231323242, 0.00810122489929199, 0.00284862518310547, 0.00269532203674316, 0.0175433158874512,\n",
      "                                   0.00272488594055176, 0.00289058685302734, 0.0027623176574707, 0.00257062911987305, 0.00285983085632324],\n",
      "                     'ete3': [0.00209498405456543, 0.00224089622497559, 0.00436115264892578, 0.00202178955078125, 0.0102331638336182,\n",
      "                              0.00201296806335449, 0.00201702117919922, 0.00200963020324707, 0.00202751159667969, 0.00203490257263184],\n",
      "                     'dendropy': [0.00397372245788574, 0.00413608551025391, 0.0040733814239502, 0.00406932830810547, 0.00442934036254883,\n",
      "                                  0.00428462028503418, 0.00393319129943848, 0.00424838066101074, 0.00405550003051758, 0.00832772254943848]},\n",
      "              10000: {'biophylo': [0.357970714569092, 0.270531415939331, 0.270015239715576, 0.335256576538086, 0.298122644424438, 0.267572402954102,\n",
      "                                   0.30294394493103, 0.247035026550293, 0.223910093307495, 0.225127696990967],\n",
      "                      'treeswift': [0.0285825729370117, 0.0277104377746582, 0.0280017852783203, 0.0286362171173096, 0.0274548530578613,\n",
      "                                    0.0532331466674805, 0.0287604331970215, 0.0557525157928467, 0.0283317565917969, 0.0520081520080566],\n",
      "                      'ete3': [0.0199306011199951, 0.0203824043273926, 0.0202615261077881, 0.0200347900390625, 0.0478897094726562, 0.0422976016998291,\n",
      "                               0.017935037612915, 0.0208067893981934, 0.0183525085449219, 0.0203127861022949],\n",
      "                      'dendropy': [0.0316383838653564, 0.03743577003479, 0.036801815032959, 0.0326673984527588, 0.0299241542816162,\n",
      "                                   0.0310330390930176, 0.0295224189758301, 0.0471556186676025, 0.0366377830505371, 0.0370278358459473]},\n",
      "              100000: {'biophylo': [1.77605319023132, 1.53400850296021, 1.62728524208069, 1.55848050117493, 1.5722279548645, 1.84835362434387,\n",
      "                                    1.86040210723877, 1.57660174369812, 1.64225888252258, 1.67362403869629],\n",
      "                       'treeswift': [0.237321376800537, 0.23407506942749, 0.303917646408081, 0.241220712661743, 0.245500802993774, 0.247383832931519,\n",
      "                                     0.231173515319824, 0.246972560882568, 0.238544464111328, 0.240951061248779],\n",
      "                       'ete3': [0.175348520278931, 0.178280591964722, 0.172284841537476, 0.183280229568481, 0.166666746139526, 0.170651435852051,\n",
      "                                0.175174713134766, 0.173751831054688, 0.171334505081177, 0.177679538726807],\n",
      "                       'dendropy': [0.387606143951416, 0.346063613891602, 0.332570314407349, 0.360547780990601, 0.33860445022583, 0.346532821655273,\n",
      "                                    0.33984899520874, 0.344334602355957, 0.33928394317627, 0.333426713943481]},\n",
      "              1000000: {'biophylo': [17.1222612857819, 16.9439222812653, 17.0463247299194, 17.4417731761932, 17.0914580821991, 16.934983253479,\n",
      "                                     16.1633453369141, 16.2624416351318, 16.5790798664093, 16.0219678878784],\n",
      "                        'treeswift': [2.38389420509338, 2.42030739784241, 2.43629574775696, 2.34830379486084, 2.34794068336487, 2.35431838035583,\n",
      "                                      2.43258690834045, 2.55257105827332, 2.34214043617249, 2.39677143096924],\n",
      "                        'ete3': [1.69257593154907, 1.71098470687866, 1.82063317298889, 1.71981811523438, 1.75416970252991, 1.75860714912415,\n",
      "                                 1.70712018013, 1.73839616775513, 1.75031161308289, 1.85195827484131],\n",
      "                        'dendropy': [3.01094889640808, 3.0086932182312, 3.12762308120728, 3.15375781059265, 3.75497221946716, 2.95332956314087,\n",
      "                                     3.08500266075134, 3.80770087242126, 2.98331522941589, 2.99244523048401]}},\n",
      " 'rootdistorder': {100: {'treeswift': [0.00188612937927246, 0.00123739242553711, 0.00122165679931641, 0.00116610527038574, 0.0016934871673584,\n",
      "                                       0.00133681297302246, 0.00116825103759766, 0.00118136405944824, 0.0012049674987793, 0.0011897087097168],\n",
      "                         'dendropy': [0.00150108337402344, 0.00143861770629883, 0.00147724151611328, 0.00155472755432129, 0.00147294998168945,\n",
      "                                      0.00145292282104492, 0.00149941444396973, 0.00179028511047363, 0.00148844718933105, 0.00146698951721191]},\n",
      "                   1000: {'treeswift': [0.0283529758453369, 0.0320062637329102, 0.0169243812561035, 0.0140700340270996, 0.0146083831787109,\n",
      "                                        0.0154352188110352, 0.0159690380096436, 0.0146133899688721, 0.0159223079681396, 0.0152046680450439],\n",
      "                          'dendropy': [0.0150434970855713, 0.0145213603973389, 0.0151882171630859, 0.0154573917388916, 0.0150811672210693,\n",
      "                                       0.015211820602417, 0.0155215263366699, 0.0361106395721436, 0.0158727169036865, 0.0143833160400391]},\n",
      "                   10000: {'treeswift': [0.263426780700684, 0.328269958496094, 0.222745656967163, 0.228237867355347, 0.27696681022644,\n",
      "                                         0.277047395706177, 0.301815748214722, 0.339556694030762, 0.272304534912109, 0.29633355140686],\n",
      "                           'dendropy': [0.155153036117554, 0.152804851531982, 0.194954395294189, 0.135436534881592, 0.150779485702515,\n",
      "                                        0.149056196212769, 0.12738037109375, 0.134055852890015, 0.127662658691406, 0.126820087432861]},\n",
      "                   100000: {'treeswift': [3.58941578865051, 3.43372893333435, 3.80663132667542, 3.0648946762085, 3.26842546463013, 3.52089881896973,\n",
      "                                          3.31814885139465, 3.40767693519592, 3.39730262756348, 3.11297988891602],\n",
      "                            'dendropy': [1.41177487373352, 1.27855324745178, 1.37324690818787, 1.35516858100891, 1.33450436592102, 1.27791285514832,\n",
      "                                         1.37411642074585, 1.29257488250732, 1.34266591072083, 1.33714008331299]},\n",
      "                   1000000: {'treeswift': [44.7720215320587, 45.0944013595581, 46.3242149353027, 44.3463292121887, 41.4180293083191, 45.4535813331604,\n",
      "                                           42.7441701889038, 43.1367151737213, 43.2718856334686, 43.2602882385254],\n",
      "                             'dendropy': [13.3357048034668, 12.9826712608337, 13.16277551651, 14.266295671463, 13.184502363205, 13.8290700912476,\n",
      "                                          13.4821321964264, 12.9857485294342, 13.2431471347809, 15.3697714805603]}},\n",
      " 'inorder': {100: {'treeswift': [0.000439882278442383, 0.000422239303588867, 0.000405311584472656, 0.000390291213989258, 0.000428676605224609,\n",
      "                                 0.000450611114501953, 0.000387668609619141, 0.000396013259887695, 0.000405311584472656, 0.000406742095947266],\n",
      "                   'dendropy': [0.000422239303588867, 0.000411748886108398, 0.000355720520019531, 0.000412464141845703, 0.000365734100341797,\n",
      "                                0.000333547592163086, 0.00136542320251465, 0.000331640243530273, 0.000328540802001953, 0.000333070755004883]},\n",
      "             1000: {'treeswift': [0.00379681587219238, 0.0078434944152832, 0.00381779670715332, 0.00390529632568359, 0.0151104927062988,\n",
      "                                  0.0037989616394043, 0.00376653671264648, 0.0040740966796875, 0.00379443168640137, 0.00391149520874023],\n",
      "                    'dendropy': [0.00408482551574707, 0.0182967185974121, 0.00411128997802734, 0.00410342216491699, 0.0187668800354004,\n",
      "                                 0.00413751602172852, 0.00406336784362793, 0.0110046863555908, 0.00405716896057129, 0.0040442943572998]},\n",
      "             10000: {'treeswift': [0.0502378940582275, 0.0383012294769287, 0.0387420654296875, 0.037606954574585, 0.0385329723358154,\n",
      "                                   0.0374207496643066, 0.0488474369049072, 0.0388832092285156, 0.0767748355865479, 0.0375666618347168],\n",
      "                     'dendropy': [0.0485153198242188, 0.0434854030609131, 0.0417845249176025, 0.0847630500793457, 0.0772404670715332,\n",
      "                                  0.0418891906738281, 0.0721292495727539, 0.0421173572540283, 0.0476469993591309, 0.0422093868255615]},\n",
      "             100000: {'treeswift': [0.382869958877563, 0.330921411514282, 0.330564260482788, 0.385319948196411, 0.330549955368042, 0.321260452270508,\n",
      "                                    0.332722425460815, 0.384109973907471, 0.326406240463257, 0.331218481063843],\n",
      "                      'dendropy': [0.503350734710693, 0.462043762207031, 0.452704191207886, 0.484538316726685, 0.464236497879028, 0.520791530609131,\n",
      "                                   0.479060649871826, 0.468108654022217, 0.483947992324829, 0.453332185745239]},\n",
      "             1000000: {'treeswift': [3.25327825546265, 3.20971822738647, 3.30648064613342, 3.28820657730103, 3.25556349754333, 3.24343681335449,\n",
      "                                     3.26882863044739, 3.24024820327759, 3.25110149383545, 3.34647488594055],\n",
      "                       'dendropy': [5.31525111198425, 5.17901754379272, 5.16394329071045, 5.08485317230225, 5.18778038024902, 5.08008480072021,\n",
      "                                    5.4139940738678, 5.15134525299072, 5.31181859970093, 5.46193504333496]}},\n",
      " 'memory': {100: {'biophylo': [61440, 61440, 61440, 61440, 61440, 61440, 61440, 61440, 61440, 61440],\n",
      "                  'treeswift': [57344, 57344, 57344, 61440, 57344, 57344, 61440, 57344, 57344, 57344],\n",
      "                  'ete3': [65536, 65536, 65536, 65536, 65536, 65536, 65536, 65536, 65536, 65536],\n",
      "                  'dendropy': [221184, 221184, 221184, 221184, 221184, 221184, 221184, 221184, 221184, 221184]},\n",
      "            1000: {'biophylo': [1179648, 1179648, 1179648, 1179648, 1179648, 1179648, 1179648, 1179648, 1179648, 1179648],\n",
      "                   'treeswift': [626688, 626688, 626688, 626688, 626688, 626688, 626688, 626688, 626688, 626688],\n",
      "                   'ete3': [1228800, 1228800, 1228800, 1228800, 1228800, 1228800, 1228800, 1228800, 1228800, 1228800],\n",
      "                   'dendropy': [2883584, 2883584, 2883584, 2883584, 2883584, 2883584, 2883584, 2883584, 2883584, 2883584]},\n",
      "            10000: {'biophylo': [12283904, 12283904, 12283904, 12283904, 12283904, 12283904, 12283904, 12283904, 12283904, 12283904],\n",
      "                    'treeswift': [6791168, 6791168, 6791168, 6791168, 6791168, 6791168, 6791168, 6791168, 6791168, 6791168],\n",
      "                    'ete3': [12738560, 12738560, 12738560, 12738560, 12738560, 12738560, 12738560, 12738560, 12738560, 12738560],\n",
      "                    'dendropy': [51290112, 51290112, 51290112, 51290112, 51290112, 51290112, 51290112, 51290112, 51290112, 51290112]},\n",
      "            100000: {'biophylo': [124866560, 124866560, 124866560, 124866560, 124866560, 124866560, 124866560, 124866560, 124866560, 124866560],\n",
      "                     'treeswift': [69910528, 69910528, 69910528, 69910528, 69910528, 69910528, 69910528, 69910528, 69910528, 69910528],\n",
      "                     'ete3': [124260352, 124260352, 124260352, 124260352, 124260352, 124260352, 124260352, 124260352, 124260352, 124260352],\n",
      "                     'dendropy': [2922475520, 2922475520, 2922475520, 2922475520, 2922475520, 2922475520, 2922475520, 2922475520, 2922475520,\n",
      "                                  2922475520]},\n",
      "            1000000: {'biophylo': [1223720960, 1223720960, 1223720960, 1223720960, 1223720960, 1223720960, 1223720960, 1223720960, 1223720960,\n",
      "                                   1223720960],\n",
      "                      'treeswift': [674480128, 674480128, 674480128, 674480128, 674480128, 674480128, 674480128, 674480128, 674480128, 674480128],\n",
      "                      'ete3': [1213353984, 1213353984, 1213353984, 1213353984, 1213353984, 1213353984, 1213353984, 1213353984, 1213353984,\n",
      "                               1213353984]}}}\n"
     ]
    }
   ],
   "source": [
    "# imports\n",
    "import gzip\n",
    "import pickle\n",
    "import pprint\n",
    "\n",
    "# open `data.pkl.gz` as a gzip file using `gzip.open`, and load the data using `pickle.load`\n",
    "with gzip.open('TreeSwift-Paper/data/data.pkl.gz', 'rb') as f:\n",
    "    data = pickle.load(f)\n",
    "\n",
    "# pretty-print the loaded data using `pprint`\n",
    "# (`compact=True` puts more output on each line to make the long output more compact)\n",
    "# (`width=150` increases how many characters per line of output; default = 80)\n",
    "pprint.pp(data, compact=True, width=150)"
   ]
  },
  {
   "cell_type": "markdown",
   "metadata": {
    "id": "3gCdQZl9xoj5"
   },
   "source": [
    "As can be seen, [`data.pkl.gz`](https://github.com/niemasd/TreeSwift-Paper/blob/master/data/data.pkl.gz) contains a Python [dictionary](https://docs.python.org/3/tutorial/datastructures.html#dictionaries) structured as follows:\n",
    "\n",
    "* The keys of `data` are the [benchmarking tasks in `time.py`](https://github.com/niemasd/TreeSwift-Paper/blob/ca754155014cd116ce48fdc570b5b47f9bac4cd0/scripts/time.py#L348-L360)\n",
    "* The keys of `data[task]` are the number of leaves of the trees (i.e., the `X` values in the files `tree_nX.tre.gz`)\n",
    "* The keys of `data[task][X]` are the Python tool that were benchmarked\n",
    "* The value associated with `data[task][X][tool]` is a Python [list](https://docs.python.org/3/tutorial/datastructures.html#more-on-lists) containing all benchmarking measurements when executing `task` on `tree_nX.tre.gz` using `tool`\n",
    "    * You may be wondering why there are multiple measurements for each benchmark\n",
    "    * When performing benchmark experiments, [stochasticity](https://en.wikipedia.org/wiki/Stochastic) (i.e., randomness) in the system will cause some amount of deviation in measurements purely by chance, so we typically run the same benchmark task multiple times (i.e., we have multiple \"technical replicates\") to get a better estimate of the true measurement\n",
    "    * From [Section 3: Benchmarking](https://www.softxjournal.com/article/S2352-7110(19)30076-7/fulltext#secd1e265) of the paper: *Each point shows the average and 95% confidence interval **over 10 runs**.*\n",
    "    * In other words, the 10 values contained within `data[task][X][tool]` are the measurements of the 10 technical replicates of running `task` on `tree_nX.tre.gz` using `tool`"
   ]
  },
  {
   "cell_type": "markdown",
   "metadata": {
    "id": "mleeEaEm0nGe"
   },
   "source": [
    "## Reproducing the Original Plots\n",
    "\n",
    "In addition to simply printing the contents of the original [`data.pkl.gz`](https://github.com/niemasd/TreeSwift-Paper/blob/master/data/data.pkl.gz) file that was provided in the aforementioned GitHub repository, let's also run the [`figures.py`](https://github.com/niemasd/TreeSwift-Paper/blob/master/scripts/figures.py) on it to reproduce the original benchmarking figures. The figures we ultimately produce from our own benchmarking experiment should (hopefully) match these figures reasonably well. This cell should take around 30 seconds to finish running."
   ]
  },
  {
   "cell_type": "code",
   "execution_count": 5,
   "metadata": {
    "colab": {
     "base_uri": "https://localhost:8080/"
    },
    "executionInfo": {
     "elapsed": 18298,
     "status": "ok",
     "timestamp": 1722875393794,
     "user": {
      "displayName": "Niema Moshiri",
      "userId": "13872219228958483167"
     },
     "user_tz": 420
    },
    "id": "WzzuP3Kw1G8-",
    "outputId": "2d1bc85b-0c07-4c93-c8c3-098e08d4852b"
   },
   "outputs": [
    {
     "name": "stdout",
     "output_type": "stream",
     "text": [
      "Figure(640x480)\n",
      "Figure(640x480)\n",
      "Figure(640x480)\n",
      "Figure(640x480)\n",
      "Figure(640x480)\n",
      "Figure(640x480)\n",
      "Figure(640x480)\n",
      "Figure(640x480)\n",
      "Figure(640x480)\n",
      "Figure(640x480)\n"
     ]
    }
   ],
   "source": [
    "!python3 TreeSwift-Paper/scripts/figures.py TreeSwift-Paper/data/data.pkl.gz"
   ]
  },
  {
   "cell_type": "markdown",
   "metadata": {
    "id": "AwUhfwx91hw9"
   },
   "source": [
    "After running the cell above, if you open the \"Files\" tab on Google Colab (the icon in the left navigation bar that looks like a folder), you will see all of the PDFs produced by [`figures.py`](https://github.com/niemasd/TreeSwift-Paper/blob/master/scripts/figures.py).\n",
    "\n",
    "*Note: You may need to close and reopen the \"Files\" tab to get the PDFs to appear after running the cell above.*\n",
    "\n",
    "**STOP and Think:** Download the PDFs we just produced, make sure they match the plots in [Figure 1](https://www.softxjournal.com/article/S2352-7110(19)30076-7/fulltext#gr1) of the paper.\n",
    "\n",
    "Once you have matched each PDF with its corresponding plot in the paper, run the following cell to delete all of the PDFs to avoid confusion when we reproduce them with our own benchmarking results later. This cell should only take a second to run.\n",
    "\n",
    "*Note: You may need to close and reopen the \"Files\" tab to get the PDFs to disappear after running the cell below.*"
   ]
  },
  {
   "cell_type": "code",
   "execution_count": 1,
   "metadata": {
    "id": "wOjD8SWt-Q_b"
   },
   "outputs": [],
   "source": [
    "import glob\n",
    "import os\n",
    "for pdf in glob.glob('*.pdf'):\n",
    "    os.remove(pdf)"
   ]
  },
  {
   "cell_type": "markdown",
   "metadata": {
    "id": "OdlvmOo1DJUl"
   },
   "source": [
    "# Running Our Own Benchmark\n",
    "\n",
    "Now that we've explored the scripts and data associated with the paper, we're ready to run our own benchmark experiment! Let's first set up some definitions to help us run the exact measurements that were in the paper. This cell should only take a second to run."
   ]
  },
  {
   "cell_type": "code",
   "execution_count": 8,
   "metadata": {
    "id": "MQEacjrzV14a"
   },
   "outputs": [],
   "source": [
    "# this patch makes the version of DendroPy we're using work in Python 3.10\n",
    "#!sed -i '2i import collections; from collections.abc import MutableMapping; collections.MutableMapping = MutableMapping' TreeSwift-Paper/scripts/time.py\n",
    "\n",
    "# we want 10 replicates per measurement\n",
    "NUM_REPS = 10\n",
    "\n",
    "# set the \"number of leaves\" values we want to run for each task based on Figure 1 of the paper\n",
    "# we're only going to go up to 10,000 leaves for the sake of time, but feel free to go all the way up to 1,000,000 if you'd like by modifying the lists below\n",
    "NUM_LEAVES = {\n",
    "    'memory':          [100, 1000, 10000],\n",
    "    'load_tree':       [100, 1000, 10000],\n",
    "    'preorder':        [100, 1000, 10000],\n",
    "    'postorder':       [100, 1000, 10000],\n",
    "    'inorder':         [100, 1000, 10000],\n",
    "    'levelorder':      [100, 1000, 10000],\n",
    "    'mrca':            [100, 1000, 10000],\n",
    "    'distance_matrix': [100, 1000],\n",
    "}\n",
    "\n",
    "# some tools are particularly inefficient or lack certain functionality, so let's use the same max \"number of leaves\" for each tool from Figure 1 of the paper\n",
    "MAX_NUM_LEAVES = {\n",
    "    'memory': {\n",
    "        'dendropy': 100000,\n",
    "    },\n",
    "    'inorder': {\n",
    "        'biophylo': 0,\n",
    "        'ete3':     0,\n",
    "    },\n",
    "    'mrca': {\n",
    "        'dendropy': 10000,\n",
    "        'biophylo': 10000,\n",
    "        'ete3':     10000,\n",
    "    }\n",
    "}"
   ]
  },
  {
   "cell_type": "markdown",
   "metadata": {
    "id": "YtNNb968V2aa"
   },
   "source": [
    "Before we actually start running the benchmark experiment, note that, even though we're using the same versions of TreeSwift, DendroPy, Biopython, and ETE as were used in the original paper, we still expect deviations in our measurements due to differences in the compute environments we're running them on. Specifically, from the second paragraph in [Section 3: Benchmarking](https://www.softxjournal.com/article/S2352-7110(19)30076-7/fulltext#secd1e265) of the paper:\n",
    "\n",
    "> *Timing was performed on a computer running CentOS release 6.6 (Final) with an Intel(R) Xeon(R) CPU E5-2670 0 at 2.60 GHz and 32 GB of RAM.*\n",
    "\n",
    "Let's take a look at the specifications of the environment this notebook is running in by running the cell below, which should only take a second to run."
   ]
  },
  {
   "cell_type": "code",
   "execution_count": 9,
   "metadata": {
    "colab": {
     "base_uri": "https://localhost:8080/"
    },
    "executionInfo": {
     "elapsed": 221,
     "status": "ok",
     "timestamp": 1722875394197,
     "user": {
      "displayName": "Niema Moshiri",
      "userId": "13872219228958483167"
     },
     "user_tz": 420
    },
    "id": "Y1gaZmmLViMH",
    "outputId": "9975689b-ebaf-48e3-c852-87d1e9669ab1"
   },
   "outputs": [
    {
     "name": "stdout",
     "output_type": "stream",
     "text": [
      "=== Operating System ===\n",
      "cat: /etc/os-release: No such file or directory\n",
      "\n",
      "=== RAM ===\n",
      "/bin/bash: free: command not found\n",
      "\n",
      "=== CPU ===\n",
      "cat: /proc/cpuinfo: No such file or directory\n",
      "\n"
     ]
    }
   ],
   "source": [
    "# print details about the operating system\n",
    "print(\"=== Operating System ===\")\n",
    "!cat /etc/os-release\n",
    "print()\n",
    "\n",
    "# print details about the RAM\n",
    "print(\"=== RAM ===\")\n",
    "!free --mega\n",
    "print()\n",
    "\n",
    "# print details about the CPU\n",
    "print(\"=== CPU ===\")\n",
    "!cat /proc/cpuinfo\n",
    "print()"
   ]
  },
  {
   "cell_type": "markdown",
   "metadata": {
    "id": "TkgIRpy-View"
   },
   "source": [
    "**STOP and Think:** Read through the Operating System, RAM, and CPU summaries printed above. How do they compare against the specifications of the computer used in the original paper? How do we expect our measurements to differ from the ones in the paper based on these differences?\n",
    "\n",
    "Now that we've thought about this carefully, let's actually run our benchmark experiment!\n",
    "\n",
    "**WARNING:** The following cell will take a *long* time to run (**probably close to 30 minutes**)!!! You can adjust the `NUM_REPS`, `NUM_LEAVES`, and `MAX_NUM_LEAVES` variables we defined at the beginning of this section if desired (e.g. to run fewer than 10 replicates per measurement, to restrict the experiment to just trees with up to 1,000 leaves, etc.), but note that this will impact the results of your experiment."
   ]
  },
  {
   "cell_type": "code",
   "execution_count": 10,
   "metadata": {
    "colab": {
     "base_uri": "https://localhost:8080/"
    },
    "executionInfo": {
     "elapsed": 1317842,
     "status": "ok",
     "timestamp": 1722876712029,
     "user": {
      "displayName": "Niema Moshiri",
      "userId": "13872219228958483167"
     },
     "user_tz": 420
    },
    "id": "gs4ZqznsDRVm",
    "outputId": "1ef96fad-41d7-4553-8286-3c80cb2d2dc6"
   },
   "outputs": [
    {
     "name": "stdout",
     "output_type": "stream",
     "text": [
      "=== Running task: memory ===\n",
      "- X = 100 leaves. dendropy.['python3', 'TreeSwift-Paper/scripts/time.py', 'TreeSwift-Paper/data/tree_n100.tre.gz', 'dendropy', 'memory']\n"
     ]
    },
    {
     "name": "stderr",
     "output_type": "stream",
     "text": [
      "Traceback (most recent call last):\n",
      "  File \u001b[35m\"/Users/brandonwerbel/Documents/sandbox/treeswift-env/TreeSwift-Paper/scripts/time.py\"\u001b[0m, line \u001b[35m2\u001b[0m, in \u001b[35m<module>\u001b[0m\n",
      "    from Bio import Phylo\n",
      "\u001b[1;35mModuleNotFoundError\u001b[0m: \u001b[35mNo module named 'Bio'\u001b[0m\n"
     ]
    },
    {
     "ename": "CalledProcessError",
     "evalue": "Command '['python3', 'TreeSwift-Paper/scripts/time.py', 'TreeSwift-Paper/data/tree_n100.tre.gz', 'dendropy', 'memory']' returned non-zero exit status 1.",
     "output_type": "error",
     "traceback": [
      "\u001b[0;31m---------------------------------------------------------------------------\u001b[0m",
      "\u001b[0;31mCalledProcessError\u001b[0m                        Traceback (most recent call last)",
      "Cell \u001b[0;32mIn[10], line 19\u001b[0m\n\u001b[1;32m     17\u001b[0m \u001b[38;5;28mprint\u001b[39m(\u001b[38;5;124m'\u001b[39m\u001b[38;5;124m.\u001b[39m\u001b[38;5;124m'\u001b[39m, end\u001b[38;5;241m=\u001b[39m\u001b[38;5;124m'\u001b[39m\u001b[38;5;124m'\u001b[39m)\n\u001b[1;32m     18\u001b[0m \u001b[38;5;28mprint\u001b[39m(command)\n\u001b[0;32m---> 19\u001b[0m measurement \u001b[38;5;241m=\u001b[39m \u001b[43msubprocess\u001b[49m\u001b[38;5;241;43m.\u001b[39;49m\u001b[43mcheck_output\u001b[49m\u001b[43m(\u001b[49m\u001b[43mcommand\u001b[49m\u001b[43m)\u001b[49m\u001b[38;5;241m.\u001b[39mdecode()\u001b[38;5;241m.\u001b[39mstrip()\n\u001b[1;32m     20\u001b[0m \u001b[38;5;28;01mif\u001b[39;00m measurement \u001b[38;5;241m!=\u001b[39m \u001b[38;5;124m'\u001b[39m\u001b[38;5;124mNA\u001b[39m\u001b[38;5;124m'\u001b[39m:\n\u001b[1;32m     21\u001b[0m     data[task][X][tool]\u001b[38;5;241m.\u001b[39mappend(\u001b[38;5;28mfloat\u001b[39m(measurement))\n",
      "File \u001b[0;32m/Library/Developer/CommandLineTools/Library/Frameworks/Python3.framework/Versions/3.9/lib/python3.9/subprocess.py:424\u001b[0m, in \u001b[0;36mcheck_output\u001b[0;34m(timeout, *popenargs, **kwargs)\u001b[0m\n\u001b[1;32m    421\u001b[0m         empty \u001b[38;5;241m=\u001b[39m \u001b[38;5;124mb\u001b[39m\u001b[38;5;124m'\u001b[39m\u001b[38;5;124m'\u001b[39m\n\u001b[1;32m    422\u001b[0m     kwargs[\u001b[38;5;124m'\u001b[39m\u001b[38;5;124minput\u001b[39m\u001b[38;5;124m'\u001b[39m] \u001b[38;5;241m=\u001b[39m empty\n\u001b[0;32m--> 424\u001b[0m \u001b[38;5;28;01mreturn\u001b[39;00m \u001b[43mrun\u001b[49m\u001b[43m(\u001b[49m\u001b[38;5;241;43m*\u001b[39;49m\u001b[43mpopenargs\u001b[49m\u001b[43m,\u001b[49m\u001b[43m \u001b[49m\u001b[43mstdout\u001b[49m\u001b[38;5;241;43m=\u001b[39;49m\u001b[43mPIPE\u001b[49m\u001b[43m,\u001b[49m\u001b[43m \u001b[49m\u001b[43mtimeout\u001b[49m\u001b[38;5;241;43m=\u001b[39;49m\u001b[43mtimeout\u001b[49m\u001b[43m,\u001b[49m\u001b[43m \u001b[49m\u001b[43mcheck\u001b[49m\u001b[38;5;241;43m=\u001b[39;49m\u001b[38;5;28;43;01mTrue\u001b[39;49;00m\u001b[43m,\u001b[49m\n\u001b[1;32m    425\u001b[0m \u001b[43m           \u001b[49m\u001b[38;5;241;43m*\u001b[39;49m\u001b[38;5;241;43m*\u001b[39;49m\u001b[43mkwargs\u001b[49m\u001b[43m)\u001b[49m\u001b[38;5;241m.\u001b[39mstdout\n",
      "File \u001b[0;32m/Library/Developer/CommandLineTools/Library/Frameworks/Python3.framework/Versions/3.9/lib/python3.9/subprocess.py:528\u001b[0m, in \u001b[0;36mrun\u001b[0;34m(input, capture_output, timeout, check, *popenargs, **kwargs)\u001b[0m\n\u001b[1;32m    526\u001b[0m     retcode \u001b[38;5;241m=\u001b[39m process\u001b[38;5;241m.\u001b[39mpoll()\n\u001b[1;32m    527\u001b[0m     \u001b[38;5;28;01mif\u001b[39;00m check \u001b[38;5;129;01mand\u001b[39;00m retcode:\n\u001b[0;32m--> 528\u001b[0m         \u001b[38;5;28;01mraise\u001b[39;00m CalledProcessError(retcode, process\u001b[38;5;241m.\u001b[39margs,\n\u001b[1;32m    529\u001b[0m                                  output\u001b[38;5;241m=\u001b[39mstdout, stderr\u001b[38;5;241m=\u001b[39mstderr)\n\u001b[1;32m    530\u001b[0m \u001b[38;5;28;01mreturn\u001b[39;00m CompletedProcess(process\u001b[38;5;241m.\u001b[39margs, retcode, stdout, stderr)\n",
      "\u001b[0;31mCalledProcessError\u001b[0m: Command '['python3', 'TreeSwift-Paper/scripts/time.py', 'TreeSwift-Paper/data/tree_n100.tre.gz', 'dendropy', 'memory']' returned non-zero exit status 1."
     ]
    }
   ],
   "source": [
    "# run the benchmark experiment\n",
    "import subprocess\n",
    "data = dict()\n",
    "for task in NUM_LEAVES:\n",
    "    data[task] = dict()\n",
    "    print(\"=== Running task: %s ===\" % task)\n",
    "    for X in NUM_LEAVES[task]:\n",
    "        data[task][X] = dict()\n",
    "        print(\"- X = %d leaves.\" % X, end='')\n",
    "        for tool in ['dendropy', 'treeswift', 'ete3']:\n",
    "            if task in MAX_NUM_LEAVES and tool in MAX_NUM_LEAVES[task] and X > MAX_NUM_LEAVES[task][tool]:\n",
    "                continue # skip this tool if X > max num leaves we want to run\n",
    "            data[task][X][tool] = list()\n",
    "            print(\" %s\" % tool, end='')\n",
    "            command = ['python3', 'TreeSwift-Paper/scripts/time.py', 'TreeSwift-Paper/data/tree_n%d.tre.gz' % X, tool, task]\n",
    "            for replicate in range(1, NUM_REPS + 1):\n",
    "                print('.', end='')\n",
    "                print(command)\n",
    "                measurement = subprocess.check_output(command).decode().strip()\n",
    "                if measurement != 'NA':\n",
    "                    data[task][X][tool].append(float(measurement))\n",
    "        print()"
   ]
  },
  {
   "cell_type": "markdown",
   "metadata": {
    "id": "38yryZhrdBfR"
   },
   "source": [
    "Now that we've finished running the benchmark experiment, we can save the raw results in a file called `data.pkl.gz`. This cell should only take a second to run."
   ]
  },
  {
   "cell_type": "code",
   "execution_count": 11,
   "metadata": {
    "id": "4d7rBFjydGvS"
   },
   "outputs": [],
   "source": [
    "# save `data` to a file called `data.pkl.gz`\n",
    "import gzip\n",
    "import pickle\n",
    "with gzip.open('data.pkl.gz', 'wb') as f:\n",
    "    pickle.dump(data, f)"
   ]
  },
  {
   "cell_type": "markdown",
   "metadata": {
    "id": "Wt_jwiGRdPww"
   },
   "source": [
    "Now, let's create plots from our own benchmarking results! This cell should take around 30 seconds to finish running."
   ]
  },
  {
   "cell_type": "code",
   "execution_count": 12,
   "metadata": {
    "colab": {
     "base_uri": "https://localhost:8080/"
    },
    "executionInfo": {
     "elapsed": 14271,
     "status": "ok",
     "timestamp": 1722876726298,
     "user": {
      "displayName": "Niema Moshiri",
      "userId": "13872219228958483167"
     },
     "user_tz": 420
    },
    "id": "Fqf6J8WldU-x",
    "outputId": "7de86987-c226-4a95-d1c9-b7e7ccfab866"
   },
   "outputs": [
    {
     "name": "stdout",
     "output_type": "stream",
     "text": [
      "{'memory': {100: {'dendropy': []}}}\n",
      "Traceback (most recent call last):\n",
      "  File \u001b[35m\"/Users/brandonwerbel/Documents/sandbox/treeswift-env/TreeSwift-Paper/scripts/figures.py\"\u001b[0m, line \u001b[35m18\u001b[0m, in \u001b[35m<module>\u001b[0m\n",
      "    from matplotlib import rcParams\n",
      "\u001b[1;35mModuleNotFoundError\u001b[0m: \u001b[35mNo module named 'matplotlib'\u001b[0m\n"
     ]
    }
   ],
   "source": [
    "!python3 TreeSwift-Paper/scripts/figures.py data.pkl.gz"
   ]
  },
  {
   "cell_type": "markdown",
   "metadata": {
    "id": "GttzTS1OdZ0X"
   },
   "source": [
    "After running the cell above, if you open the \"Files\" tab on Google Colab (the icon in the left navigation bar that looks like a folder), you will see all of the PDFs produced by [`figures.py`](https://github.com/niemasd/TreeSwift-Paper/blob/master/scripts/figures.py).\n",
    "\n",
    "*Note: You may need to close and reopen the \"Files\" tab to get the PDFs to appear after running the cell above.*\n",
    "\n",
    "**STOP and Think:** Download the PDFs we just produced, compare them against the plots in [Figure 1](https://www.softxjournal.com/article/S2352-7110(19)30076-7/fulltext#gr1) of the paper."
   ]
  }
 ],
 "metadata": {
  "colab": {
   "provenance": []
  },
  "kernelspec": {
   "display_name": ".venv",
   "language": "python",
   "name": "python3"
  },
  "language_info": {
   "codemirror_mode": {
    "name": "ipython",
    "version": 3
   },
   "file_extension": ".py",
   "mimetype": "text/x-python",
   "name": "python",
   "nbconvert_exporter": "python",
   "pygments_lexer": "ipython3",
   "version": "3.9.6"
  }
 },
 "nbformat": 4,
 "nbformat_minor": 0
}
